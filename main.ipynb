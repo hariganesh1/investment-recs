{
 "cells": [
  {
   "cell_type": "markdown",
   "metadata": {},
   "source": [
    "## 1. Import Libraries"
   ]
  },
  {
   "cell_type": "code",
   "execution_count": 1,
   "metadata": {},
   "outputs": [],
   "source": [
    "import time\n",
    "import sys\n",
    "import selenium\n",
    "from selenium import webdriver\n",
    "from selenium.webdriver.chrome.service import Service as ChromeService\n",
    "from selenium.webdriver.chrome.options import Options\n",
    "from webdriver_manager.chrome import ChromeDriverManager\n",
    "from bs4 import BeautifulSoup\n",
    "\n",
    "from scraper import scrape_stock_data\n",
    "from scraper import scrape_articles \n",
    "from scraper import scrape_text\n",
    "\n",
    "from model import analyze"
   ]
  },
  {
   "cell_type": "markdown",
   "metadata": {},
   "source": [
    "## 2. Scrape -- function-ifying to use in app.py\n"
   ]
  },
  {
   "cell_type": "code",
   "execution_count": 20,
   "metadata": {},
   "outputs": [],
   "source": [
    "def main(tickers):\n",
    "    options = Options()\n",
    "    options.headless = True\n",
    "\n",
    "    # Initialize Driver\n",
    "    driver = driver = webdriver.Chrome(\n",
    "        service=ChromeService(ChromeDriverManager().install()),\n",
    "        options=options,\n",
    "    )\n",
    "    driver.set_window_size(1000, 1000)\n",
    "\n",
    "    # Store the information:\n",
    "    stock_data = [] # List of dictionaries\n",
    "    score_dict = {} # Dictionary of scores\n",
    "    articles = {}   # Title of Article: URL\n",
    "\n",
    "    # Scraping Data\n",
    "    for ticker in tickers.split():\n",
    "        # Quantitative data\n",
    "        stock_data.append(scrape_stock_data(driver, ticker))\n",
    "\n",
    "        # Articles\n",
    "        articles = scrape_articles(ticker)\n",
    "\n",
    "        # Text from each of them\n",
    "        text = \"\"\n",
    "        for title in articles:\n",
    "            text += scrape_text(articles[title])\n",
    "        \n",
    "        # Analyze text + record\n",
    "        score = analyze(text)\n",
    "        score_dict[ticker] = score\n",
    "\n",
    "    # Close the driver\n",
    "    driver.quit()\n",
    "\n",
    "    # Printing data\n",
    "    print(\"stock data scraper: \\n\")\n",
    "    for data in stock_data:\n",
    "        print(data)\n",
    "    print(\"stock scores: \")\n",
    "    for score in score_dict.keys():\n",
    "        print(\"stock: \", score, \"corresponding score: \", score_dict[score])\n",
    "\n",
    "    for article in articles.keys():\n",
    "        print(\"article: \", article, \"corresponding url: \", articles[article])"
   ]
  },
  {
   "cell_type": "code",
   "execution_count": 22,
   "metadata": {},
   "outputs": [
    {
     "name": "stdout",
     "output_type": "stream",
     "text": [
      "stock data scraper: \n",
      "\n",
      "{'ticker': 'AMZN', 'market_price (previous close)': '161.93', 'market_open': '166.61', 'day_range': '161.43 - 167.58'}\n",
      "{'ticker': 'AAPL', 'market_price (previous close)': '207.23', 'market_open': '206.89', 'day_range': '206.41 - 213.64'}\n",
      "{'ticker': 'GOOGL', 'market_price (previous close)': '158.29', 'market_open': '161.33', 'day_range': '158.48 - 162.98'}\n",
      "{'ticker': 'MSFT', 'market_price (previous close)': '399.61', 'market_open': '408.64', 'day_range': '397.47 - 410.05'}\n",
      "{'ticker': 'TSLA', 'market_price (previous close)': '200.64', 'market_open': '200.85', 'day_range': '191.48 - 203.49'}\n",
      "stock scores: \n",
      "stock:  AMZN corresponding score:  {'neg': 0.069, 'neu': 0.702, 'pos': 0.229, 'compound': 1.0}\n",
      "stock:  AAPL corresponding score:  {'neg': 0.071, 'neu': 0.748, 'pos': 0.182, 'compound': 1.0}\n",
      "stock:  GOOGL corresponding score:  {'neg': 0.035, 'neu': 0.79, 'pos': 0.175, 'compound': 1.0}\n",
      "stock:  MSFT corresponding score:  {'neg': 0.064, 'neu': 0.752, 'pos': 0.184, 'compound': 1.0}\n",
      "stock:  TSLA corresponding score:  {'neg': 0.047, 'neu': 0.753, 'pos': 0.199, 'compound': 1.0}\n",
      "article:  Dow Jones Futures: Nvidia-Led Reversal Is Blow To Market Rally Attempt corresponding url:  https://finance.yahoo.com/m/8188e6b1-8d94-33dd-8648-a4bd3e07c03c/dow-jones-futures-nvidia-led.html\n",
      "article:  Tesla Stock (NASDAQ:TSLA): Here’s Its Secret Growth Machine corresponding url:  https://finance.yahoo.com/news/tesla-stock-nasdaq-tsla-secret-221748684.html\n",
      "article:  Abandoned Acquisitions, AI, and Robotaxis...Big Things in the World of Stocks corresponding url:  https://finance.yahoo.com/news/abandoned-acquisitions-ai-robotaxis-big-202100384.html\n",
      "article:  Tesla's energy business expands with Sunrun partnership in Texas corresponding url:  https://finance.yahoo.com/news/teslas-energy-business-expands-with-sunrun-partnership-in-texas-194618498.html\n",
      "article:  Magnificent Seven Stocks: Nvidia Stock Reverses Lower; Tesla Slides corresponding url:  https://finance.yahoo.com/m/4205eaa9-f620-3a0b-a81a-0e82c7c9fd0b/magnificent-seven-stocks-.html\n",
      "article:  Tesla CEO Elon Musk Deserves His $60 Billion Pay Package. This Analysis Backs It Up. corresponding url:  https://finance.yahoo.com/m/ef5583ac-d1ff-3b52-9e59-123f708ae572/tesla-ceo-elon-musk-deserves.html\n",
      "article:  US auto safety agency seeks information from Tesla on fatal Cybertruck crash and fire in Texas corresponding url:  https://finance.yahoo.com/news/us-auto-safety-agency-seeks-171251532.html\n",
      "article:  Big Tech is in 'penalty box' for now: Barclays strategist corresponding url:  https://finance.yahoo.com/video/big-tech-penalty-box-now-153316252.html\n",
      "article:  Tesla Stock Is Falling. Uber’s Self-Driving News Didn’t Help. corresponding url:  https://finance.yahoo.com/m/87185c34-c780-3522-883b-a47edbfdd4b6/tesla-stock-is-falling-.html\n",
      "article:  Tesla Stock Ended Higher. It Was All About Japan. corresponding url:  https://finance.yahoo.com/m/993716d3-1f74-3c00-a356-f057d3ab0e87/tesla-stock-ended-higher-it.html\n",
      "article:  A black swan market crash on the horizon? corresponding url:  https://finance.yahoo.com/video/navigate-markets-uncertain-times-opening-122521088.html\n",
      "article:  Are the AI, tech trades still the move after Mag 7 losses? corresponding url:  https://finance.yahoo.com/video/ai-tech-trades-still-move-133839658.html\n",
      "article:  Why Trump won’t crush Tesla and Elon Musk corresponding url:  https://finance.yahoo.com/video/why-trump-won-t-crush-110049362.html\n"
     ]
    }
   ],
   "source": [
    "tickers = \"AMZN AAPL GOOGL MSFT TSLA\" # Change later\n",
    "main(tickers)"
   ]
  }
 ],
 "metadata": {
  "kernelspec": {
   "display_name": "Python 3",
   "language": "python",
   "name": "python3"
  },
  "language_info": {
   "codemirror_mode": {
    "name": "ipython",
    "version": 3
   },
   "file_extension": ".py",
   "mimetype": "text/x-python",
   "name": "python",
   "nbconvert_exporter": "python",
   "pygments_lexer": "ipython3",
   "version": "3.12.4"
  }
 },
 "nbformat": 4,
 "nbformat_minor": 2
}
